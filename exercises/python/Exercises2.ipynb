{
 "cells": [
  {
   "cell_type": "markdown",
   "metadata": {},
   "source": [
    "### **Exercise1:**\n",
    "\n",
    "Plot a rainbow"
   ]
  },
  {
   "cell_type": "code",
   "execution_count": 7,
   "metadata": {},
   "outputs": [],
   "source": [
    "import numpy as np\n",
    "from matplotlib import pyplot as plt\n",
    "import matplotlib as mpl"
   ]
  },
  {
   "cell_type": "code",
   "execution_count": null,
   "metadata": {},
   "outputs": [],
   "source": [
    "cols = [\"red\",\"orange\",\"yellow\",\"green\",\"cyan\",\"blue\",\"purple\"]\n",
    "r = list(np.linspace(0.2,0.8,7))\n",
    "x = np.linspace(-1.5,1.5,303)\n",
    "\n",
    "_= [plt.plot(x, np.sqrt(r[i]**2-x**2),linewidth=20, color=cols[len(cols)-1-i]) for i in range(0,7)]\n",
    "plt.gca().set_aspect('equal')"
   ]
  },
  {
   "cell_type": "markdown",
   "metadata": {},
   "source": [
    "### **Exercise2:**"
   ]
  },
  {
   "cell_type": "markdown",
   "metadata": {},
   "source": [
    "Plot the recaman sequence in the following way:\n",
    "\n",
    "Add a semi-circular arc from $a_{n}$ to $a_{n-1}$.\n",
    "\n",
    "Alternate the arcs to be above and below the x-axis according to whether\n",
    "    n is even or odd."
   ]
  },
  {
   "cell_type": "code",
   "execution_count": 6,
   "metadata": {},
   "outputs": [],
   "source": [
    "import numpy as np\n",
    "from matplotlib import pyplot as plt"
   ]
  },
  {
   "cell_type": "code",
   "execution_count": 1,
   "metadata": {},
   "outputs": [],
   "source": [
    "def recaman(N):\n",
    "    a=[]\n",
    "    a.append(0)\n",
    "    for n in range(1,N):\n",
    "        an = a[n-1] - n\n",
    "        if (an> 0) and (an not in a):\n",
    "            a.append(an)\n",
    "        else:\n",
    "            a.append(a[n-1]+n)\n",
    "    return a\n"
   ]
  },
  {
   "cell_type": "code",
   "execution_count": null,
   "metadata": {},
   "outputs": [],
   "source": [
    "N = 100\n",
    "a = recaman(N)\n",
    "centers = [(a[n]+a[n-1])/2 for n in range(1,N)]\n",
    "radii = [abs(a[n]-a[n-1])/2 for n in range(1,N)]\n",
    "theta = np.linspace(0,np.pi,255)\n",
    "\n",
    "_= [plt.plot(centers[i]+radii[i] * np.cos(theta),radii[i]*(1-2*((i+1)%2))*np.sin(theta),color='grey') for i in range(0,N-1) ]\n",
    "\n",
    "plt.gca().set_aspect('equal')"
   ]
  },
  {
   "cell_type": "markdown",
   "metadata": {},
   "source": [
    "### **Exercise3:**"
   ]
  },
  {
   "cell_type": "markdown",
   "metadata": {},
   "source": [
    "Write a matrix multiplication fucntion using lists (\"manually\", like you did in c++) and another one using numpy arrays (call matmul function). Time them both. "
   ]
  },
  {
   "cell_type": "code",
   "execution_count": 41,
   "metadata": {},
   "outputs": [],
   "source": [
    "a = [1,2,3,4,5,6]\n",
    "b = [3,4,5,6,7,8]\n",
    "\n",
    "\n",
    "def mult(a,b,nrow_a,ncol_a,ncol_b):\n",
    "    c=[0 for i in range(0,nrow_a*ncol_b)]\n",
    "    for i in range(0,nrow_a):\n",
    "        for j in range(0,ncol_b):\n",
    "            for k in range(0,ncol_a):\n",
    "                c[j+i*ncol_b] += a[k+i*ncol_a]*b[j+k*ncol_b]\n",
    "    return c"
   ]
  },
  {
   "cell_type": "code",
   "execution_count": 54,
   "metadata": {},
   "outputs": [
    {
     "name": "stdout",
     "output_type": "stream",
     "text": [
      "CPU times: user 14 µs, sys: 1e+03 ns, total: 15 µs\n",
      "Wall time: 16.9 µs\n"
     ]
    },
    {
     "data": {
      "text/plain": [
       "[34, 40, 79, 94]"
      ]
     },
     "execution_count": 54,
     "metadata": {},
     "output_type": "execute_result"
    }
   ],
   "source": [
    "%time c = mult(a,b,2,3,2)\n",
    "c"
   ]
  },
  {
   "cell_type": "code",
   "execution_count": 47,
   "metadata": {},
   "outputs": [],
   "source": [
    "arr_a = np.array(a).reshape(2,3)\n",
    "arr_b = np.array(b).reshape(3,2)\n"
   ]
  },
  {
   "cell_type": "code",
   "execution_count": 53,
   "metadata": {},
   "outputs": [
    {
     "name": "stdout",
     "output_type": "stream",
     "text": [
      "CPU times: user 39 µs, sys: 1e+03 ns, total: 40 µs\n",
      "Wall time: 44.1 µs\n"
     ]
    },
    {
     "data": {
      "text/plain": [
       "array([[34, 40],\n",
       "       [79, 94]])"
      ]
     },
     "execution_count": 53,
     "metadata": {},
     "output_type": "execute_result"
    }
   ],
   "source": [
    "%time np.matmul(arr_a,arr_b)"
   ]
  },
  {
   "cell_type": "markdown",
   "metadata": {},
   "source": [
    "### **Exercise4:**"
   ]
  },
  {
   "cell_type": "markdown",
   "metadata": {},
   "source": [
    "Read the \"extra exercise from c++\" about the Jacobi method to solve the Laplace equation. Implement the solver (without defining a class and just using numpy aray as a mesh) for the equation with the same boundary conditions. Try to get the same final picture and gif as the c++ version. Hint: you can plot a matrix with plt.imshow(MATRIX_TO_PLOT). The gif creation example scipt is in the file `anym.py` (not in the Jupyterlab as it has troubles displaying and sometimes even producing gifs, rememeber that you can export your notebooks into `.py` files by `Files->Export Notebook as... -> Export Notebook as executable script`)"
   ]
  },
  {
   "cell_type": "code",
   "execution_count": 142,
   "metadata": {},
   "outputs": [],
   "source": [
    "grid_size = 50\n",
    "mesh = np.full((grid_size+2,grid_size+2),0.5)\n",
    "mesh[grid_size+1,:] = np.linspace(100,0,grid_size+2)\n",
    "mesh[:,0] = np.linspace(0,100,grid_size+2)\n",
    "mesh[0,:] = 0\n",
    "mesh[:,grid_size+1] = 0\n",
    "frames = []\n",
    "\n",
    "\n",
    "def evolve(nstep,mesh,grid_size):\n",
    "    step = 0\n",
    "    mesh_new = mesh.copy()\n",
    "    while step < nstep:\n",
    "        for i in range(1,grid_size+1):\n",
    "            for j in range(1,grid_size+1):\n",
    "                mesh_new[i,j] = 0.25*(mesh[i-1,j]+mesh[i+1,j]+mesh[i,j-1]+mesh[i,j+1])\n",
    "                mesh = mesh_new.copy()\n",
    "        step += 1\n",
    "        frames.append([plt.imshow(mesh,animated=True)])\n",
    "    return(mesh)\n"
   ]
  },
  {
   "cell_type": "code",
   "execution_count": null,
   "metadata": {},
   "outputs": [],
   "source": [
    "evolved_mesh = evolve(1000,mesh,grid_size)\n"
   ]
  },
  {
   "cell_type": "markdown",
   "metadata": {},
   "source": [
    "### **Exercise5:**\n",
    "Implement [Conway's game of life](https://en.wikipedia.org/wiki/Conway%27s_Game_of_Life) using numpy array to hold data and animation technique from the previous exercise (or any other if you know it)."
   ]
  },
  {
   "cell_type": "code",
   "execution_count": null,
   "metadata": {},
   "outputs": [],
   "source": [
    "N, M = (10,10)\n",
    "mesh = np.random.rand(N,M)\n",
    "mesh=np.rint(mesh).astype('int')\n",
    "#mesh[5,5] = 1\n",
    "#mesh[6,6] = 1\n",
    "#mesh[7,6] = 1\n",
    "plt.imshow(mesh, cmap=mpl.colormaps['Greys'])\n"
   ]
  },
  {
   "cell_type": "code",
   "execution_count": 31,
   "metadata": {},
   "outputs": [],
   "source": [
    "def evolve_gol(mesh,N,M):\n",
    "    new = mesh.copy()\n",
    "    for i in range(1,N-1):\n",
    "        for j in range(1,M-1):\n",
    "            dude = mesh[i,j]\n",
    "            neighbors = [mesh[k,l] for k in range(i-1,i+2) for l in range(j-1,j+2)]\n",
    "            alive = sum(neighbors) - dude\n",
    "            match dude:\n",
    "                case 1:\n",
    "                    if alive == 2 or alive == 3:\n",
    "                        new[i,j] = 1\n",
    "                    else:\n",
    "                        new[i,j] = 0\n",
    "                case 0:\n",
    "                    if  alive == 3:\n",
    "                        new[i,j] = 1\n",
    "                    else:\n",
    "                        new[i,j] = 0\n",
    "    mesh = new.copy()\n",
    "    return mesh\n"
   ]
  },
  {
   "cell_type": "code",
   "execution_count": 46,
   "metadata": {},
   "outputs": [
    {
     "data": {
      "text/plain": [
       "array([[1., 1., 1., 0., 1., 0., 0., 1., 0., 1.],\n",
       "       [1., 1., 1., 1., 0., 0., 0., 0., 0., 0.],\n",
       "       [0., 0., 0., 0., 0., 0., 1., 1., 0., 0.],\n",
       "       [1., 1., 0., 1., 1., 1., 1., 1., 0., 1.],\n",
       "       [1., 1., 1., 1., 0., 1., 1., 0., 0., 0.],\n",
       "       [1., 1., 0., 1., 1., 1., 1., 0., 0., 0.],\n",
       "       [1., 1., 1., 0., 0., 1., 0., 0., 0., 1.],\n",
       "       [0., 0., 0., 0., 1., 0., 0., 1., 1., 1.],\n",
       "       [0., 1., 1., 0., 0., 1., 1., 1., 0., 0.],\n",
       "       [0., 0., 0., 1., 0., 1., 0., 0., 0., 1.]])"
      ]
     },
     "execution_count": 46,
     "metadata": {},
     "output_type": "execute_result"
    }
   ],
   "source": [
    "evolve_gol(mesh,N,M)\n",
    "mesh"
   ]
  },
  {
   "cell_type": "markdown",
   "metadata": {},
   "source": [
    "### **Exercise6 (for those from data science following statistics course):**"
   ]
  },
  {
   "cell_type": "markdown",
   "metadata": {},
   "source": [
    "Choose some howework from the statistics course that you've done in R and try to rewrite it using numpy."
   ]
  },
  {
   "cell_type": "code",
   "execution_count": null,
   "metadata": {},
   "outputs": [],
   "source": []
  }
 ],
 "metadata": {
  "kernelspec": {
   "display_name": "Python 3.10.8 ('adv_prog')",
   "language": "python",
   "name": "python3"
  },
  "language_info": {
   "codemirror_mode": {
    "name": "ipython",
    "version": 3
   },
   "file_extension": ".py",
   "mimetype": "text/x-python",
   "name": "python",
   "nbconvert_exporter": "python",
   "pygments_lexer": "ipython3",
   "version": "3.10.8"
  },
  "vscode": {
   "interpreter": {
    "hash": "fff00ad4363bc3dca99dd50ee075a4bcc3b0d66dd570b8b6829cf30ab57879d5"
   }
  }
 },
 "nbformat": 4,
 "nbformat_minor": 4
}
